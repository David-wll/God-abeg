{
  "cells": [
    {
      "cell_type": "markdown",
      "metadata": {
        "id": "view-in-github",
        "colab_type": "text"
      },
      "source": [
        "<a href=\"https://colab.research.google.com/github/David-wll/God-abeg/blob/master/todo_list.ipynb\" target=\"_parent\"><img src=\"https://colab.research.google.com/assets/colab-badge.svg\" alt=\"Open In Colab\"/></a>"
      ]
    },
    {
      "cell_type": "code",
      "execution_count": null,
      "metadata": {
        "colab": {
          "background_save": true,
          "base_uri": "https://localhost:8080/"
        },
        "id": "Oz-br2DOrNIC",
        "outputId": "a864c68f-0463-4e49-d57f-1ded9d85ae89"
      },
      "outputs": [
        {
          "name": "stdout",
          "output_type": "stream",
          "text": [
            "welcome to your todo list\n",
            "new list registered\n",
            " 1. drdrr\n"
          ]
        }
      ],
      "source": [
        "print(\"welcome to your todo list\")\n",
        "\n",
        "data = []\n",
        "\n",
        "def add():\n",
        "  endprocess = 0\n",
        "  while endprocess <= 5:\n",
        "    endprocess += 1\n",
        "    note = str(input(\"enter your list \"))\n",
        "    data.append(note)\n",
        "    print(\"new list registered\")\n",
        "    delete = input(\"will you like to delete an item? (yes/no) \")\n",
        "    if delete == \"yes\":\n",
        "      while True:\n",
        "        try:\n",
        "          item_to_delete = int(input(\"Enter the number of the item to delete: \"))\n",
        "          if 1 <= item_to_delete <= len(data):\n",
        "            deleted_item = data.pop(item_to_delete - 1)\n",
        "            print(f\"Deleted: {deleted_item}\")\n",
        "            break\n",
        "          else:\n",
        "            print(\"Invalid number. Please enter a number from the list.\")\n",
        "        except ValueError:\n",
        "          print(\"Invalid input. Please enter a number.\")\n",
        "    for i, item in enumerate(data):\n",
        "      print(f\" {i+1}. {item}\")\n",
        "\n",
        "\n",
        "\n",
        "\n",
        "add()"
      ]
    }
  ],
  "metadata": {
    "colab": {
      "provenance": [],
      "authorship_tag": "ABX9TyNTE9IwzAg61s8ybzR2ykdT",
      "include_colab_link": true
    },
    "kernelspec": {
      "display_name": "Python 3",
      "name": "python3"
    },
    "language_info": {
      "name": "python"
    }
  },
  "nbformat": 4,
  "nbformat_minor": 0
}